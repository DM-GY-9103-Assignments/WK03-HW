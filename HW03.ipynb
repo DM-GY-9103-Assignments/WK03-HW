{
 "cells": [
  {
   "cell_type": "markdown",
   "metadata": {
    "id": "QshK8s21WBrf"
   },
   "source": [
    "# HW03\n",
    "\n",
    "## Some exercises to get started with data analysis in Python"
   ]
  },
  {
   "cell_type": "markdown",
   "metadata": {
    "id": "7Hf8SXUwWOho"
   },
   "source": [
    "### Setup\n",
    "\n",
    "Run the following 2 cells to import all necessary libraries and helpers for Homework 02"
   ]
  },
  {
   "cell_type": "code",
   "execution_count": 29,
   "metadata": {},
   "outputs": [],
   "source": [
    "!wget -q https://github.com/DM-GY-9103-2024F-H/9103-utils/raw/main/src/data_utils.py"
   ]
  },
  {
   "cell_type": "code",
   "execution_count": 28,
   "metadata": {},
   "outputs": [],
   "source": [
    "import matplotlib.pyplot as plt\n",
    "\n",
    "from HW03_utils import Tests\n",
    "from data_utils import object_from_json_url"
   ]
  },
  {
   "cell_type": "markdown",
   "metadata": {
    "id": "CR-PEugdX6Tz"
   },
   "source": [
    "### Exercise 01:\n",
    "\n",
    "Finding the sum of integer sequences.\n",
    "\n",
    "Create a function ```sum_of_ints(i0, i1)``` that returns the sum of all integers between two integers.\n",
    "\n",
    "For example, ```sum_of_ints(4, 32)``` should return $522$.\n"
   ]
  },
  {
   "cell_type": "code",
   "execution_count": 27,
   "metadata": {
    "tags": [
     "work_cell"
    ]
   },
   "outputs": [
    {
     "name": "stdout",
     "output_type": "stream",
     "text": [
      "522\n"
     ]
    }
   ],
   "source": [
    "## Work on exercise 01 here\n",
    "\n",
    "def sum_of_ints(i0, i1):\n",
    "  # TODO: fill in this function\n",
    "  return sum(range(i0, i1 + 1))\n",
    "\n",
    "print(sum_of_ints(4,32))\n"
   ]
  },
  {
   "cell_type": "markdown",
   "metadata": {
    "id": "MKA9RSFMYn9p"
   },
   "source": [
    "### Exercise 01 testing:\n",
    "\n",
    "Running the following cell will test the ```sum_of_ints()``` function on a small set of input pairs and report any combination that isn't computing correctly, if any."
   ]
  },
  {
   "cell_type": "code",
   "execution_count": 28,
   "metadata": {},
   "outputs": [
    {
     "name": "stdout",
     "output_type": "stream",
     "text": [
      "ERROR Check sum of sum_of_ints(-11, -40) should be -765 not 0\n",
      "ERROR Check sum of sum_of_ints(79, 47) should be 2079 not 0\n"
     ]
    }
   ],
   "source": [
    "# Test 01\n",
    "Tests.test(\"01\", sum_of_ints)"
   ]
  },
  {
   "cell_type": "markdown",
   "metadata": {
    "id": "tlj9rUWg_eLq"
   },
   "source": [
    "### Exercise 02:\n",
    "\n",
    "Working with lists and dictionaries/objects.\n",
    "\n",
    "Write a function `sum_objects(in_list)` that accept a list of objects and returns a sum according to the following specifications:\n",
    "\n",
    "Each object in the list has 2 fields, `type` and `amount`, and so will look something like this:\n",
    "\n",
    "```python\n",
    "list = [\n",
    "  { \"type\": \"cost\", \"amount\": 10.00 },\n",
    "  { \"type\": \"cost\", \"amount\": 15.99 },\n",
    "  { \"type\": \"income\", \"amount\": 150.25 },\n",
    "  { \"type\": \"income\", \"amount\": 243.52 },\n",
    "]\n",
    "```\n",
    "\n",
    "The `sum_objects(in_list)` function should iterate through all of the items in `in_list` and sum their `amount`s using positive values when `type` is `\"income\"`, and negative values when `type` is `\"cost\"`.\n",
    "\n",
    "For example, passing the above list to the function should return $367.78$."
   ]
  },
  {
   "cell_type": "code",
   "execution_count": 33,
   "metadata": {
    "tags": [
     "work_cell"
    ]
   },
   "outputs": [
    {
     "name": "stdout",
     "output_type": "stream",
     "text": [
      "367.78\n"
     ]
    }
   ],
   "source": [
    "list = [\n",
    "  { \"type\": \"cost\", \"amount\": 10.00 },\n",
    "  { \"type\": \"cost\", \"amount\": 15.99 },\n",
    "  { \"type\": \"income\", \"amount\": 150.25 },\n",
    "  { \"type\": \"income\", \"amount\": 243.52 },\n",
    "]\n",
    "\n",
    "# Implement 02 here\n",
    "def sum_objects(in_list):\n",
    "  # TODO: fill this in\n",
    "  all_income = 0\n",
    "  all_cost = 0\n",
    "\n",
    "  for x in in_list:\n",
    "    if x[\"type\"] == \"cost\":\n",
    "        all_cost += x[\"amount\"]\n",
    "    elif x[\"type\"] == \"income\":\n",
    "        all_income += x[\"amount\"]\n",
    "\n",
    "  print(all_income - all_cost)\n",
    "sum_objects(list)"
   ]
  },
  {
   "cell_type": "code",
   "execution_count": 36,
   "metadata": {},
   "outputs": [
    {
     "name": "stdout",
     "output_type": "stream",
     "text": [
      "367.78\n"
     ]
    }
   ],
   "source": [
    "# Run this cell to test if function returns 367.78\n",
    "\n",
    "test_list = [\n",
    "  { \"type\": \"cost\", \"amount\": 10.00 },\n",
    "  { \"type\": \"cost\", \"amount\": 15.99 },\n",
    "  { \"type\": \"income\", \"amount\": 150.25 },\n",
    "  { \"type\": \"income\", \"amount\": 243.52 },\n",
    "]\n",
    "\n",
    "sum_objects(test_list)"
   ]
  },
  {
   "cell_type": "markdown",
   "metadata": {
    "id": "h26qEqysLLrq"
   },
   "source": [
    "#### Exercise 02 test:\n",
    "\n",
    "Run the following cell to test the `sum_objects()` function."
   ]
  },
  {
   "cell_type": "code",
   "execution_count": 38,
   "metadata": {},
   "outputs": [
    {
     "name": "stdout",
     "output_type": "stream",
     "text": [
      "-278.77000000000004\n",
      "ERROR Check sum of [{'type': 'cost', 'amount': 37.61}, {'type': 'cost', 'amount': 20.79}, {'type': 'cost', 'amount': 74.84}, {'type': 'cost', 'amount': 66.78}, {'type': 'income', 'amount': 27.4}, {'type': 'income', 'amount': 22.96}, {'type': 'cost', 'amount': 34.23}, {'type': 'income', 'amount': 73.6}, {'type': 'cost', 'amount': 60.67}, {'type': 'cost', 'amount': 43.43}, {'type': 'cost', 'amount': 64.38}] should be -278.77 not None\n",
      "42.25999999999999\n",
      "ERROR Check sum of [{'type': 'cost', 'amount': 95.46}, {'type': 'income', 'amount': 76.79}, {'type': 'income', 'amount': 83.71}, {'type': 'cost', 'amount': 60.38}, {'type': 'income', 'amount': 37.6}] should be 42.260000000000005 not None\n",
      "93.82\n",
      "ERROR Check sum of [{'type': 'income', 'amount': 30.59}, {'type': 'income', 'amount': 23.65}, {'type': 'cost', 'amount': 19.7}, {'type': 'cost', 'amount': 25.4}, {'type': 'income', 'amount': 49.1}, {'type': 'cost', 'amount': 60.46}, {'type': 'income', 'amount': 80.27}, {'type': 'income', 'amount': 48.73}, {'type': 'income', 'amount': 97.75}, {'type': 'cost', 'amount': 84.68}, {'type': 'cost', 'amount': 26.47}, {'type': 'income', 'amount': 13.74}, {'type': 'cost', 'amount': 84.52}, {'type': 'cost', 'amount': 28.8}, {'type': 'income', 'amount': 80.02}] should be 93.81999999999996 not None\n",
      "-9.079999999999984\n",
      "ERROR Check sum of [{'type': 'cost', 'amount': 30.95}, {'type': 'income', 'amount': 64.92}, {'type': 'income', 'amount': 72.68}, {'type': 'cost', 'amount': 96.21}, {'type': 'income', 'amount': 71.14}, {'type': 'cost', 'amount': 19.34}, {'type': 'cost', 'amount': 83.59}, {'type': 'cost', 'amount': 23.92}, {'type': 'income', 'amount': 36.19}] should be -9.079999999999998 not None\n",
      "-33.32000000000005\n",
      "ERROR Check sum of [{'type': 'cost', 'amount': 82.7}, {'type': 'income', 'amount': 16.75}, {'type': 'cost', 'amount': 30.24}, {'type': 'income', 'amount': 27.13}, {'type': 'income', 'amount': 80.96}, {'type': 'cost', 'amount': 51.56}, {'type': 'income', 'amount': 68.06}, {'type': 'cost', 'amount': 6.08}, {'type': 'cost', 'amount': 9.07}, {'type': 'cost', 'amount': 82.82}, {'type': 'income', 'amount': 36.25}] should be -33.31999999999999 not None\n",
      "-149.58999999999995\n",
      "ERROR Check sum of [{'type': 'cost', 'amount': 12.57}, {'type': 'cost', 'amount': 31.3}, {'type': 'income', 'amount': 26.16}, {'type': 'cost', 'amount': 61.68}, {'type': 'cost', 'amount': 13.91}, {'type': 'income', 'amount': 81.22}, {'type': 'cost', 'amount': 38.14}, {'type': 'cost', 'amount': 10.01}, {'type': 'cost', 'amount': 6.93}, {'type': 'cost', 'amount': 89.62}, {'type': 'income', 'amount': 48.5}, {'type': 'cost', 'amount': 45.72}, {'type': 'income', 'amount': 40.11}, {'type': 'cost', 'amount': 34.46}, {'type': 'cost', 'amount': 31.7}, {'type': 'income', 'amount': 30.46}] should be -149.58999999999997 not None\n",
      "-510.6900000000001\n",
      "ERROR Check sum of [{'type': 'cost', 'amount': 48.39}, {'type': 'income', 'amount': 17.55}, {'type': 'cost', 'amount': 75.34}, {'type': 'cost', 'amount': 89.48}, {'type': 'cost', 'amount': 75.37}, {'type': 'cost', 'amount': 39.62}, {'type': 'income', 'amount': 43.36}, {'type': 'cost', 'amount': 40.3}, {'type': 'cost', 'amount': 98.38}, {'type': 'cost', 'amount': 93.95}, {'type': 'cost', 'amount': 64.83}, {'type': 'income', 'amount': 61.64}, {'type': 'cost', 'amount': 45.01}, {'type': 'income', 'amount': 38.39}, {'type': 'cost', 'amount': 12.59}, {'type': 'income', 'amount': 11.63}] should be -510.69000000000005 not None\n",
      "99.93\n",
      "ERROR Check sum of [{'type': 'income', 'amount': 6.79}, {'type': 'income', 'amount': 60.79}, {'type': 'income', 'amount': 16.4}, {'type': 'income', 'amount': 5.23}, {'type': 'income', 'amount': 66.4}, {'type': 'cost', 'amount': 13.49}, {'type': 'income', 'amount': 6.25}, {'type': 'cost', 'amount': 18.34}, {'type': 'cost', 'amount': 30.1}] should be 99.93 not None\n",
      "-287.46000000000004\n",
      "ERROR Check sum of [{'type': 'cost', 'amount': 6.35}, {'type': 'cost', 'amount': 73.11}, {'type': 'cost', 'amount': 96.14}, {'type': 'income', 'amount': 1.88}, {'type': 'cost', 'amount': 2.68}, {'type': 'cost', 'amount': 13.43}, {'type': 'cost', 'amount': 97.63}] should be -287.46000000000004 not None\n",
      "-35.450000000000045\n",
      "ERROR Check sum of [{'type': 'income', 'amount': 99.79}, {'type': 'income', 'amount': 17.67}, {'type': 'cost', 'amount': 21.52}, {'type': 'cost', 'amount': 22.05}, {'type': 'cost', 'amount': 81.33}, {'type': 'income', 'amount': 29.6}, {'type': 'income', 'amount': 11.98}, {'type': 'cost', 'amount': 98.6}, {'type': 'income', 'amount': 28.19}, {'type': 'income', 'amount': 1.33}, {'type': 'cost', 'amount': 80.63}, {'type': 'cost', 'amount': 20.85}, {'type': 'income', 'amount': 50.44}, {'type': 'income', 'amount': 50.53}] should be -35.44999999999999 not None\n",
      "-324.03000000000003\n",
      "ERROR Check sum of [{'type': 'cost', 'amount': 71.1}, {'type': 'cost', 'amount': 25.38}, {'type': 'cost', 'amount': 59.09}, {'type': 'cost', 'amount': 96.18}, {'type': 'cost', 'amount': 11.98}, {'type': 'cost', 'amount': 64.33}, {'type': 'cost', 'amount': 40.49}, {'type': 'income', 'amount': 27.18}, {'type': 'income', 'amount': 27.44}, {'type': 'income', 'amount': 5.94}, {'type': 'cost', 'amount': 16.04}] should be -324.03000000000003 not None\n",
      "-36.01000000000005\n",
      "ERROR Check sum of [{'type': 'cost', 'amount': 71.31}, {'type': 'income', 'amount': 88.09}, {'type': 'cost', 'amount': 16.76}, {'type': 'income', 'amount': 90.43}, {'type': 'cost', 'amount': 74.47}, {'type': 'cost', 'amount': 38.67}, {'type': 'income', 'amount': 40.84}, {'type': 'cost', 'amount': 14.8}, {'type': 'income', 'amount': 12.25}, {'type': 'income', 'amount': 17.03}, {'type': 'cost', 'amount': 29.38}, {'type': 'cost', 'amount': 87.31}, {'type': 'income', 'amount': 48.05}] should be -36.00999999999999 not None\n",
      "197.69\n",
      "ERROR Check sum of [{'type': 'income', 'amount': 23.44}, {'type': 'cost', 'amount': 6.28}, {'type': 'cost', 'amount': 35.24}, {'type': 'income', 'amount': 76.03}, {'type': 'income', 'amount': 14.01}, {'type': 'income', 'amount': 52.13}, {'type': 'income', 'amount': 73.6}] should be 197.69 not None\n",
      "-339.24000000000007\n",
      "ERROR Check sum of [{'type': 'income', 'amount': 62.29}, {'type': 'cost', 'amount': 28.62}, {'type': 'cost', 'amount': 70.84}, {'type': 'income', 'amount': 75.97}, {'type': 'cost', 'amount': 54.07}, {'type': 'income', 'amount': 55.31}, {'type': 'cost', 'amount': 74.71}, {'type': 'cost', 'amount': 23.62}, {'type': 'cost', 'amount': 73.22}, {'type': 'cost', 'amount': 96.43}, {'type': 'cost', 'amount': 88.27}, {'type': 'income', 'amount': 27.63}, {'type': 'cost', 'amount': 50.66}] should be -339.24 not None\n",
      "-435.40999999999997\n",
      "ERROR Check sum of [{'type': 'cost', 'amount': 44.6}, {'type': 'income', 'amount': 41.18}, {'type': 'cost', 'amount': 84.7}, {'type': 'income', 'amount': 36.66}, {'type': 'cost', 'amount': 65.76}, {'type': 'cost', 'amount': 75.56}, {'type': 'cost', 'amount': 54.73}, {'type': 'income', 'amount': 34.75}, {'type': 'cost', 'amount': 27.49}, {'type': 'cost', 'amount': 75.75}, {'type': 'cost', 'amount': 9.0}, {'type': 'cost', 'amount': 89.26}, {'type': 'cost', 'amount': 21.15}] should be -435.40999999999997 not None\n",
      "-163.14\n",
      "ERROR Check sum of [{'type': 'income', 'amount': 22.79}, {'type': 'cost', 'amount': 86.28}, {'type': 'income', 'amount': 60.21}, {'type': 'cost', 'amount': 47.48}, {'type': 'cost', 'amount': 73.41}, {'type': 'cost', 'amount': 38.97}] should be -163.14 not None\n"
     ]
    }
   ],
   "source": [
    "# Test 02\n",
    "Tests.test(\"02\", sum_objects)"
   ]
  },
  {
   "cell_type": "markdown",
   "metadata": {
    "id": "prKGt8bzScNA"
   },
   "source": [
    "### Exercise 03:\n",
    "\n",
    "Working with data files.\n",
    "\n",
    "Find the name and population of the 3 cities that are geographically closest to the world's most populous city.\n",
    "\n",
    "# 🤔😱\n"
   ]
  },
  {
   "cell_type": "markdown",
   "metadata": {
    "id": "FKsnl_NYTSk0"
   },
   "source": [
    "#### Load Data:\n",
    "\n",
    "Let's break this down into a few sub-problems.\n",
    "\n",
    "First, let's load a JSON file that has information about large cities in the world.\n",
    "\n",
    "The file at this [URL](https://raw.githubusercontent.com/DM-GY-9103-2024F-H/9103-utils/main/datasets/json/cities50k.json) has a list of cities formatted like this:\n",
    "\n",
    "```py\n",
    "{\n",
    "  \"name\": \"Pittsburgh\",\n",
    "  \"country\": \"US\",\n",
    "  \"admin1\": \"Pennsylvania\",\n",
    "  \"lat\": 40.4406200,\n",
    "  \"lon\": -79.9958900,\n",
    "  \"pop\": 304391\n",
    "}\n",
    "```\n",
    "\n",
    "This is just like how we loaded ANSUR data files in class:"
   ]
  },
  {
   "cell_type": "code",
   "execution_count": 32,
   "metadata": {},
   "outputs": [],
   "source": [
    "# Define the location of the json file here\n",
    "CITIES_FILE = \"https://raw.githubusercontent.com/DM-GY-9103-2024F-H/9103-utils/main/datasets/json/cities50k.json\"\n",
    "\n",
    "# Use the object_from_json_url() function to load contents from \n",
    "# the json file into a Python object called \"info_cities\"\n",
    "\n",
    "info_cities = object_from_json_url(CITIES_FILE)"
   ]
  },
  {
   "cell_type": "markdown",
   "metadata": {
    "id": "KeWkaI_lYzIE"
   },
   "source": [
    "#### Exercise 03A:\n",
    "\n",
    "Ok. We should now have a list of objects with information about cities.\n",
    "\n",
    "Explore the data and answer the following questions:\n",
    "- How many cities are in this list?\n",
    "- What's the name of the first city on the list?\n",
    "- What are the latitude and longitude of the last city on the list?\n",
    "- What are the populations for the largest and smallest cities?\n",
    "- What's the name of the city with the largest population?\n"
   ]
  },
  {
   "cell_type": "code",
   "execution_count": 54,
   "metadata": {
    "tags": [
     "work_cell"
    ]
   },
   "outputs": [
    {
     "name": "stdout",
     "output_type": "stream",
     "text": [
      "8670\n",
      "{'name': 'Abu Dhabi', 'country': 'AE', 'admin1': 'Abū Z̧aby', 'lat': 24.45118, 'lon': 54.39696, 'pop': 603492}\n",
      "Abu Dhabi\n",
      "-17.88333\n",
      "30.7\n",
      "22315474\n",
      "50011\n",
      "Shanghai\n"
     ]
    }
   ],
   "source": [
    "# Work on 03A here\n",
    "print(len(info_cities))\n",
    "print(info_cities[0])\n",
    "# How many cities are in the list?\n",
    "\n",
    "num_cities = (len(info_cities))\n",
    "\n",
    "\n",
    "# What's the name of the first city on the list?\n",
    "\n",
    "first_city = print(info_cities[0]['name'])\n",
    "\n",
    "\n",
    "# What are the latitude and longitude of the last city on the list?\n",
    "\n",
    "last_latitude = print(info_cities[-1]['lat'])\n",
    "last_longitude = print(info_cities[-1]['lon'])\n",
    "\n",
    "\n",
    "# What are the populations for the largest and smallest cities?\n",
    "all_populations = [C[\"pop\"] for C in info_cities]\n",
    "largest_population = print(max(all_populations))\n",
    "smallest_population = print(min(all_populations))\n",
    "\n",
    "\n",
    "# What's the name of the city with the largest population?\n",
    "\n",
    "def nameBigPop(C): \n",
    "    return C[\"pop\"]\n",
    "largest_city_name = max(info_cities, key=nameBigPop)\n",
    "print(largest_city_name[\"name\"])"
   ]
  },
  {
   "cell_type": "markdown",
   "metadata": {},
   "source": [
    "#### Test 03A"
   ]
  },
  {
   "cell_type": "code",
   "execution_count": 55,
   "metadata": {},
   "outputs": [
    {
     "name": "stdout",
     "output_type": "stream",
     "text": [
      "ERROR Check first_city\n"
     ]
    },
    {
     "ename": "TypeError",
     "evalue": "float() argument must be a string or a real number, not 'NoneType'",
     "output_type": "error",
     "traceback": [
      "\u001b[0;31m---------------------------------------------------------------------------\u001b[0m",
      "\u001b[0;31mTypeError\u001b[0m                                 Traceback (most recent call last)",
      "Cell \u001b[0;32mIn[55], line 4\u001b[0m\n\u001b[1;32m      1\u001b[0m \u001b[38;5;66;03m# Test 03A\u001b[39;00m\n\u001b[1;32m      2\u001b[0m answers \u001b[38;5;241m=\u001b[39m [num_cities, first_city, last_latitude, last_longitude, largest_population, smallest_population, largest_city_name]\n\u001b[0;32m----> 4\u001b[0m \u001b[43mTests\u001b[49m\u001b[38;5;241;43m.\u001b[39;49m\u001b[43mtest\u001b[49m\u001b[43m(\u001b[49m\u001b[38;5;124;43m\"\u001b[39;49m\u001b[38;5;124;43m03A\u001b[39;49m\u001b[38;5;124;43m\"\u001b[39;49m\u001b[43m,\u001b[49m\u001b[43m \u001b[49m\u001b[43manswers\u001b[49m\u001b[43m)\u001b[49m\n",
      "File \u001b[0;32mHW03_utils.py:277\u001b[0m, in \u001b[0;36mtest\u001b[0;34m(test_label, test_arg)\u001b[0m\n",
      "File \u001b[0;32mHW03_utils.py:79\u001b[0m, in \u001b[0;36mtest_03A\u001b[0;34m(answers)\u001b[0m\n",
      "\u001b[0;31mTypeError\u001b[0m: float() argument must be a string or a real number, not 'NoneType'"
     ]
    }
   ],
   "source": [
    "# Test 03A\n",
    "answers = [num_cities, first_city, last_latitude, last_longitude, largest_population, smallest_population, largest_city_name]\n",
    "\n",
    "Tests.test(\"03A\", answers)"
   ]
  },
  {
   "cell_type": "markdown",
   "metadata": {
    "id": "nJylXsSrZ7DH"
   },
   "source": [
    "#### Exercise 03B:\n",
    "\n",
    "We have the largest city's name and population, but we need its position.\n",
    "\n",
    "We can recycle some of the logic from above to get the whole object that contains information for the largest city."
   ]
  },
  {
   "cell_type": "code",
   "execution_count": 56,
   "metadata": {
    "tags": [
     "work_cell"
    ]
   },
   "outputs": [],
   "source": [
    "# Work on 03B here\n",
    "\n",
    "largest_city = {}\n"
   ]
  },
  {
   "cell_type": "code",
   "execution_count": null,
   "metadata": {},
   "outputs": [],
   "source": [
    "# Test 03B\n",
    "Tests.test(\"03B\", largest_city)"
   ]
  },
  {
   "cell_type": "markdown",
   "metadata": {
    "id": "nJylXsSrZ7DH"
   },
   "source": [
    "#### Exercise 03C:\n",
    "\n",
    "We should have all info about the largest city here.\n",
    "\n",
    "Now, we'll iterate through the list and use each city's latitude and longitude to calculate its distance from the largest city.\n",
    "\n",
    "Althought not $100\\%$ correct, it's ok to use the [2D Euclidean distances](https://en.wikipedia.org/wiki/Euclidean_distance#Two_dimensions) for this.\n",
    "\n",
    "Could be useful to define a function `distance(cityA, cityB)` that returns the distance between two cities."
   ]
  },
  {
   "cell_type": "code",
   "execution_count": null,
   "metadata": {
    "tags": [
     "work_cell"
    ]
   },
   "outputs": [],
   "source": [
    "# Work on 03C here\n",
    "\n",
    "# Implement the helper function for calculating distances between 2 cities\n",
    "\n",
    "def distance(cityA, cityB):\n",
    "  return 0\n"
   ]
  },
  {
   "cell_type": "code",
   "execution_count": null,
   "metadata": {},
   "outputs": [],
   "source": [
    "# Test 03C\n",
    "Tests.test(\"03C\", distance)"
   ]
  },
  {
   "cell_type": "markdown",
   "metadata": {
    "id": "27RWtZVJeRp4"
   },
   "source": [
    "#### Exercise 03D:\n",
    "\n",
    "Ok. We implemented a function to calculate the distance between 2 cities, let's use it now.\n",
    "\n",
    "Iterate through the list of cities again, calculate the distance from each city to the largest city, and add that as a new feature/key to each city's entry:\n",
    "\n",
    "```py\n",
    "{\n",
    "  \"name\": \"Pittsburgh\",\n",
    "  \"country\": \"US\",\n",
    "  \"admin1\": \"Pennsylvania\",\n",
    "  \"lat\": 40.4406200,\n",
    "  \"lon\": -79.9958900,\n",
    "  \"pop\": 304391,\n",
    "  \"distance\": 1222.32\n",
    "}\n",
    "```\n",
    "\n",
    "\n",
    "Or, iterate through the list of cities, calculate the distance from each city to the largest city and save the name, population and distance of each city on a separate list, maybe called `city_distances`.\n",
    "\n",
    "`city_distances` could look something like this:\n",
    "\n",
    "```py\n",
    "[\n",
    "  { \"name\": \"Abu Dhabi\", \"pop\": 603492, \"distance\": 12.34 },\n",
    "  { \"name\": \"Ajman City\", \"pop\": 490035, \"distance\": 98.76 },\n",
    "  ...\n",
    "  { \"name\": \"Norton\", \"pop\": 52054, \"distance\": 56.78 }\n",
    "]\n",
    "```\n",
    "\n",
    "Just make sure the `key` that holds the distance value is called `distance`."
   ]
  },
  {
   "cell_type": "code",
   "execution_count": null,
   "metadata": {
    "tags": [
     "work_cell"
    ]
   },
   "outputs": [],
   "source": [
    "# Work on 03D here\n",
    "\n",
    "# Now calculate every city's distance from the largest city and\n",
    "# add that info to each city's entry or save that on a new list\n",
    "# with their name and pop\n",
    "\n",
    "city_distances = []\n"
   ]
  },
  {
   "cell_type": "code",
   "execution_count": null,
   "metadata": {},
   "outputs": [],
   "source": [
    "# Test 03D\n",
    "Tests.test(\"03D\", city_distances)\n",
    "\n",
    "# OR\n",
    "#Tests.test(\"03D\", info_cities)"
   ]
  },
  {
   "cell_type": "markdown",
   "metadata": {
    "id": "xJG6V-DufauE"
   },
   "source": [
    "#### Exercise 03E:\n",
    "\n",
    "Now, sort the array from the previous step by distance and get the name and population of the 3 cities closest to the largest city.\n",
    "\n",
    "The answer should be an object where its keys are city names and values are populations.\n",
    "\n",
    "Something like:\n",
    "\n",
    "```python\n",
    "closest_3 = {\n",
    "  \"pittsburgh\": 23412,\n",
    "  \"liverpool\": 172821,\n",
    "  \"oakland\": 182726\n",
    "}\n",
    "```\n",
    "\n",
    "We saw how to sort lists of objects in lecture."
   ]
  },
  {
   "cell_type": "code",
   "execution_count": null,
   "metadata": {
    "tags": [
     "work_cell"
    ]
   },
   "outputs": [],
   "source": [
    "# Work on 03E here\n",
    "\n",
    "# Sort the array and get the name and population of the 3 cities closest to the largest city\n",
    "\n",
    "cities_by_distance = []\n",
    "\n",
    "closest_3 = {}\n"
   ]
  },
  {
   "cell_type": "code",
   "execution_count": null,
   "metadata": {},
   "outputs": [],
   "source": [
    "# Test 03F\n",
    "Tests.test(\"03E\", closest_3)"
   ]
  },
  {
   "cell_type": "markdown",
   "metadata": {
    "id": "nengUZA4WfPb"
   },
   "source": [
    "### Exercise 04:\n",
    "\n",
    "Visualizing data files.\n"
   ]
  },
  {
   "cell_type": "markdown",
   "metadata": {
    "id": "mvoFMxi1dQEc"
   },
   "source": [
    "#### Loading The Data:\n",
    "\n",
    "Let's load a JSON file that has information about houses in the Los Angeles metropolitan region of California.\n",
    "\n",
    "The file at this [url](https://raw.githubusercontent.com/DM-GY-9103-2024F-H/9103-utils/main/datasets/json/LA_housing.json) has a list of objects formatted like this:\n",
    "\n",
    "```python\n",
    "{\n",
    "  \"longitude\": -114.310,\n",
    "  \"latitude\": 34.190,\n",
    "  \"age\": 15,\n",
    "  \"rooms\": 12.234,\n",
    "  \"bedrooms\": 3.514,\n",
    "  \"value\": 669000\n",
    "}\n",
    "```\n",
    "\n",
    "The number of rooms and bedrooms are not integers because some addresses have multiple units/apartments with different floorplans that get averaged."
   ]
  },
  {
   "cell_type": "code",
   "execution_count": null,
   "metadata": {
    "id": "S2bnMyEoWmxL",
    "tags": []
   },
   "outputs": [],
   "source": [
    "# Define the location of the json file\n",
    "HOUSES_FILE = \"https://raw.githubusercontent.com/DM-GY-9103-2024F-H/9103-utils/main/datasets/json/LA_housing.json\"\n",
    "\n",
    "# Use the object_from_json_url() function to load\n",
    "# the json file into a Python object called \"info_houses\"\n",
    "\n",
    "info_houses = object_from_json_url(HOUSES_FILE)"
   ]
  },
  {
   "cell_type": "markdown",
   "metadata": {
    "id": "w_oZ0_CogIiM"
   },
   "source": [
    "#### Exercise 04A:\n",
    "\n",
    "Explore the data and answer the following questions:\n",
    "- How many instances are there in our dataset?\n",
    "- What's the value of the most expensive house?\n",
    "- What's the max number of bedrooms in a house?\n",
    "- What's the number of bedrooms in the house with the most rooms?\n",
    "- What's the number of rooms in the house with the most bedrooms?"
   ]
  },
  {
   "cell_type": "code",
   "execution_count": null,
   "metadata": {
    "tags": [
     "work_cell"
    ]
   },
   "outputs": [],
   "source": [
    "# Work on 04A here\n",
    "\n",
    "# How many instances are there in our dataset?\n",
    "# This is the same as asking \"how many rows\" or, in this case, \"how many houses\"\n",
    "\n",
    "num_houses = 0\n",
    "\n",
    "\n",
    "# What's the value of the most expensive house?\n",
    "\n",
    "max_value = 0\n",
    "\n",
    "\n",
    "# What's the number of bedrooms in the house with the most bedrooms?\n",
    "\n",
    "most_bedrooms = 0\n",
    "\n",
    "\n",
    "# What's the number of bedrooms in the house with the most rooms?\n",
    "\n",
    "bedrooms_in_most_rooms = 0\n",
    "\n",
    "\n",
    "# What's the number of rooms in the house with the most bedrooms?\n",
    "\n",
    "rooms_in_most_bedrooms = 0\n"
   ]
  },
  {
   "cell_type": "code",
   "execution_count": null,
   "metadata": {},
   "outputs": [],
   "source": [
    "# Test 04A\n",
    "answers = [num_houses, max_value, most_bedrooms, bedrooms_in_most_rooms, rooms_in_most_bedrooms]\n",
    "\n",
    "Tests.test(\"04A\", answers)"
   ]
  },
  {
   "cell_type": "markdown",
   "metadata": {
    "id": "sy2gQI7_hNTC"
   },
   "source": [
    "#### Exercise 04B:\n",
    "\n",
    "Which of the features (`longitude`, `latitude`, `age`, `rooms` or `bedrooms`) is a better indicator for value of a house?\n",
    "\n",
    "We're going to use XY scatter plots to visualize house value as a function of each of these features, and see if any of them show strong correlation.\n",
    "\n",
    "Documentation for the plotting library is here:\n",
    "https://matplotlib.org/stable/api/_as_gen/matplotlib.pyplot.scatter.html\n",
    "\n",
    "One thing to note is that the functions for plotting like to get lists of values and not lists of objects.\n",
    "\n",
    "Before we plot anything, let's define a function `list_from_key(objs, key)` that returns a list with all values of feature `key` for all of the objects in `objs`."
   ]
  },
  {
   "cell_type": "code",
   "execution_count": null,
   "metadata": {
    "tags": [
     "work_cell"
    ]
   },
   "outputs": [],
   "source": [
    "# Work on 04B here\n",
    "\n",
    "# helper function to get lists of values from specific key\n",
    "def list_from_key(objs, key):\n",
    "  # TODO: implement the list_from_key functionality\n",
    "  return []\n"
   ]
  },
  {
   "cell_type": "code",
   "execution_count": null,
   "metadata": {},
   "outputs": [],
   "source": [
    "# Test 04B\n",
    "Tests.test(\"04B\", list_from_key)"
   ]
  },
  {
   "cell_type": "markdown",
   "metadata": {},
   "source": [
    "#### Exercise 04C:\n",
    "\n",
    "Now we can actually plot some values and start looking for correlations.\n",
    "\n",
    "Pick a feature and make a graph that shows house prices as a function of that feature.\n",
    "\n",
    "You can also write a for loop to plot graphs for all features."
   ]
  },
  {
   "cell_type": "code",
   "execution_count": null,
   "metadata": {
    "tags": [
     "work_cell"
    ]
   },
   "outputs": [],
   "source": [
    "# Work on 04C here\n",
    "\n",
    "# TODO: get a list with all of the price values\n",
    "prices = []\n",
    "\n",
    "# TODO: get a list with all of the house ages (for example)\n",
    "house_ages = []\n",
    "\n",
    "\n",
    "# this is the command to plot a XY scatter plot from 2 lists\n",
    "# see documentation: https://matplotlib.org/stable/api/_as_gen/matplotlib.pyplot.scatter.html\n",
    "\n",
    "plt.scatter(house_ages, prices)\n",
    "plt.xlabel(\"age\")\n",
    "plt.ylabel(\"value\")\n",
    "plt.show()"
   ]
  },
  {
   "cell_type": "markdown",
   "metadata": {},
   "source": [
    "#### What are some features that correlate with price ?"
   ]
  },
  {
   "cell_type": "markdown",
   "metadata": {
    "tags": [
     "work_cell"
    ]
   },
   "source": [
    "Answer 04C here. Double-click to edit Markdown."
   ]
  },
  {
   "cell_type": "markdown",
   "metadata": {
    "id": "UTMOs6zJsWbN"
   },
   "source": [
    "#### Foreshadowing:\n",
    "\n",
    "What if we use two features at a time?\n",
    "\n",
    "Is there a pair of features (`longitude`, `latitude`, `age`, `rooms` or `bedrooms`) that correlates to house value?\n",
    "\n",
    "We could look at the relationship between `price`, `age` and `rooms`:"
   ]
  },
  {
   "cell_type": "code",
   "execution_count": null,
   "metadata": {
    "id": "JdA6xihhraSa",
    "tags": []
   },
   "outputs": [],
   "source": [
    "# get a list with all of the price values\n",
    "prices = list_from_key(info_houses, \"value\")\n",
    "\n",
    "# get a list with all of the values of one feature\n",
    "feature_0_values = list_from_key(info_houses, \"age\")\n",
    "\n",
    "# get a list with all of the values of another feature\n",
    "feature_1_values = list_from_key(info_houses, \"rooms\")\n",
    "\n",
    "# this is how we plot an XY scatter plot using 3 lists\n",
    "# see documentation: https://matplotlib.org/stable/api/_as_gen/matplotlib.pyplot.scatter.html\n",
    "\n",
    "plt.scatter(feature_0_values, feature_1_values, c=prices, alpha=0.3)\n",
    "plt.xlabel(\"age\")\n",
    "plt.ylabel(\"rooms\")\n",
    "plt.show()"
   ]
  },
  {
   "cell_type": "markdown",
   "metadata": {},
   "source": [
    "Or, we could write a little for loop to plot all possible pairs of features:"
   ]
  },
  {
   "cell_type": "code",
   "execution_count": null,
   "metadata": {
    "tags": []
   },
   "outputs": [],
   "source": [
    "# to plot all feature pairs\n",
    "# get list of all features\n",
    "features = info_houses[0].keys()\n",
    "prices = list_from_key(info_houses, \"value\")\n",
    "\n",
    "# get all pairs of features\n",
    "for idx_0, feature_0 in enumerate(features):\n",
    "  x = list_from_key(info_houses, feature_0)\n",
    "  for idx_1, feature_1 in enumerate(features):\n",
    "    y = list_from_key(info_houses, feature_1)\n",
    "    # skip repeated features\n",
    "    if feature_0 != \"value\" and feature_1 != \"value\" and idx_1 > idx_0:\n",
    "      plt.scatter(x, y, c=prices, alpha=0.3)\n",
    "      plt.xlabel(feature_0)\n",
    "      plt.ylabel(feature_1)\n",
    "      plt.show()"
   ]
  }
 ],
 "metadata": {
  "colab": {
   "authorship_tag": "ABX9TyPxe2qYxIG7EblrvD1C4Pmv",
   "provenance": []
  },
  "kernelspec": {
   "display_name": "Python 3.9.17 ('hf-model')",
   "language": "python",
   "name": "python3"
  },
  "language_info": {
   "codemirror_mode": {
    "name": "ipython",
    "version": 3
   },
   "file_extension": ".py",
   "mimetype": "text/x-python",
   "name": "python",
   "nbconvert_exporter": "python",
   "pygments_lexer": "ipython3",
   "version": "3.10.15"
  },
  "vscode": {
   "interpreter": {
    "hash": "89e384cab7c47fb35ec95d2248b519cf922ee174880eed636c26cdfb6c4df768"
   }
  }
 },
 "nbformat": 4,
 "nbformat_minor": 0
}
